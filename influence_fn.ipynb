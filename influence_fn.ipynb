{
 "cells": [
  {
   "cell_type": "code",
   "execution_count": 5,
   "metadata": {},
   "outputs": [],
   "source": [
    "import torch\n",
    "from torch import nn\n",
    "from torch.autograd import grad\n",
    "import numpy as np\n",
    "from torch.utils.data import DataLoader\n",
    "\n",
    "import os\n",
    "\n",
    "from hessian_hvp_utils import hessian_vector_product, hessians\n",
    "from mnist_logistic_binary import create_binary_MNIST, preproc_binary_MNIST\n",
    "from inverse_hvp import get_inverse_hvp\n",
    "\n",
    "DATA_DIR = \"./data\"\n",
    "MODEL_DIR = \"./model\"\n",
    "MODEL_PT = \"mnist_logistic_reg.pt\"\n",
    "\n",
    "train_dataset, test_dataset = create_binary_MNIST(data_dir=DATA_DIR)\n",
    "train_loader = DataLoader(train_dataset, batch_size=1, shuffle=False)\n",
    "test_loader = DataLoader(test_dataset, batch_size=1, shuffle=False)\n",
    "\n",
    "model = nn.Sequential(nn.Linear(28*28,1))\n",
    "model.load_state_dict(torch.load(os.path.join(MODEL_DIR, MODEL_PT)))\n",
    "params = list(model.parameters())\n",
    "criterion = nn.BCEWithLogitsLoss()\n",
    "\n",
    "test_idx = 278    # The first misclassified test data point"
   ]
  },
  {
   "cell_type": "code",
   "execution_count": 2,
   "metadata": {},
   "outputs": [],
   "source": [
    "# Influence function of params w.r.t. upweighting\n",
    "\n",
    "pass"
   ]
  },
  {
   "cell_type": "code",
   "execution_count": 3,
   "metadata": {},
   "outputs": [],
   "source": [
    "# Influence function of loss w.r.t. upweighting\n",
    "\n",
    "# Compute gradients w.r.t. each training data point\n",
    "train_grads = []\n",
    "for idx, (input, target) in enumerate(train_loader):\n",
    "    input, target = preproc_binary_MNIST(input, target)\n",
    "    loss = criterion(model(input), target)\n",
    "    grads = grad(loss, params)\n",
    "    train_grads.append(grads)\n",
    "\n",
    "# Compute `s_test`\n",
    "input, target = test_dataset.data[test_idx:(test_idx+1)], test_dataset.targets[test_idx:(test_idx+1)]\n",
    "input, target = preproc_binary_MNIST(input, target)\n",
    "loss = criterion(model(input), target)\n",
    "test_grads = grad(loss, params)\n",
    "lissa_params = {\n",
    "    \"batch_size\": 10,\n",
    "    \"num_repeats\": 10,\n",
    "    \"recursion_depth\": 5000,\n",
    "}\n",
    "\n",
    "s_test = get_inverse_hvp(model, criterion, train_dataset, test_grads,\n",
    "                                        approx_type='lissa',\n",
    "                                        approx_params=lissa_params,\n",
    "                                        preproc_data_fn=preproc_binary_MNIST)\n",
    "\n",
    "# Compute influence\n",
    "inf_up_loss = []\n",
    "for train_grad in train_grads:\n",
    "    inf = 0\n",
    "    for train_grad_p, s_test_p in zip(train_grad, s_test):\n",
    "        assert train_grad_p.shape == s_test_p.shape\n",
    "        inf += -torch.sum(train_grad_p * s_test_p)\n",
    "    inf_up_loss.append(inf)\n",
    "\n",
    "print(inf_up_loss)"
   ]
  },
  {
   "cell_type": "code",
   "execution_count": null,
   "metadata": {},
   "outputs": [],
   "source": [
    "# Influence function of params w.r.t. perturbation\n",
    "\n",
    "pass"
   ]
  },
  {
   "cell_type": "code",
   "execution_count": null,
   "metadata": {},
   "outputs": [],
   "source": [
    "# Influence function of loss w.r.t. perturbation\n",
    "\n",
    "# Compute `s_test`\n",
    "input, target = test_dataset.data[test_idx:(test_idx+1)], test_dataset.targets[test_idx:(test_idx+1)]\n",
    "input, target = preproc_binary_MNIST(input, target)\n",
    "loss = criterion(model(input), target)\n",
    "test_grads = grad(loss, params)\n",
    "lissa_params = {\n",
    "    \"batch_size\": 10,\n",
    "    \"num_repeats\": 10,\n",
    "    \"recursion_depth\": 5000,\n",
    "}\n",
    "\n",
    "s_test = get_inverse_hvp(model, criterion, train_dataset, test_grads,\n",
    "                                        approx_type='lissa',\n",
    "                                        approx_params=lissa_params,\n",
    "                                        preproc_data_fn=preproc_binary_MNIST)"
   ]
  },
  {
   "cell_type": "code",
   "execution_count": 40,
   "metadata": {},
   "outputs": [
    {
     "name": "stdout",
     "output_type": "stream",
     "text": [
      "2\n",
      "1\n",
      "torch.Size([1, 784])\n"
     ]
    }
   ],
   "source": [
    "train_twice_grads = []\n",
    "for idx, (input, target) in enumerate(train_loader):\n",
    "    input, target = preproc_binary_MNIST(input, target)\n",
    "    input.requires_grad_()\n",
    "    \n",
    "    # TODO) Fix code below (use hvp to compute influence directly)\n",
    "    #             (Extend hvp to support single data point case)\n",
    "    # NOTE) Probably don't need to detach s_test beforehand\n",
    "    #             (since s_test has already been computed before this stage)\n",
    "    loss = criterion(model(input), target)\n",
    "    grads = grad(loss, params, create_graph=True)\n",
    "    grad_outputs = [torch.ones_like(g) for g in grads]\n",
    "    twice_grads = grad(grads, input, grad_outputs=grad_outputs)\n",
    "    train_twice_grads.append(twice_grads)"
   ]
  },
  {
   "cell_type": "code",
   "execution_count": null,
   "metadata": {},
   "outputs": [],
   "source": [
    "# Compute influence\n",
    "inf_pert_loss = []\n",
    "for train_grad in train_grads:\n",
    "    inf = 0\n",
    "    for train_grad_p, s_test_p in zip(train_grad, s_test):\n",
    "        assert train_grad_p.shape == s_test_p.shape\n",
    "        inf += -torch.sum(train_grad_p * s_test_p)\n",
    "    inf_pert_loss.append(inf)"
   ]
  }
 ],
 "metadata": {
  "kernelspec": {
   "display_name": "Python 3",
   "language": "python",
   "name": "python3"
  },
  "language_info": {
   "codemirror_mode": {
    "name": "ipython",
    "version": 3
   },
   "file_extension": ".py",
   "mimetype": "text/x-python",
   "name": "python",
   "nbconvert_exporter": "python",
   "pygments_lexer": "ipython3",
   "version": "3.7.5"
  }
 },
 "nbformat": 4,
 "nbformat_minor": 2
}
